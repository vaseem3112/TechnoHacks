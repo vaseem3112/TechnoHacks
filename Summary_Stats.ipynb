{
  "nbformat": 4,
  "nbformat_minor": 0,
  "metadata": {
    "colab": {
      "provenance": []
    },
    "kernelspec": {
      "name": "python3",
      "display_name": "Python 3"
    },
    "language_info": {
      "name": "python"
    }
  },
  "cells": [
    {
      "cell_type": "markdown",
      "source": [
        "# TechnoHacks\n",
        "\n",
        "**Task**: Calculate summary statistics (Mean,Median ,Mode ,Standard deviation ) for a dataset.\n",
        "\n",
        "Dataset : https://www.kaggle.com/competitions/titanic/data?select=test.csv"
      ],
      "metadata": {
        "id": "L1OvXoffH0PU"
      }
    },
    {
      "cell_type": "code",
      "execution_count": 3,
      "metadata": {
        "id": "BI07R027BwfR",
        "colab": {
          "base_uri": "https://localhost:8080/"
        },
        "outputId": "489571b6-fce6-4cc1-fbc8-aed3f42f311a"
      },
      "outputs": [
        {
          "output_type": "stream",
          "name": "stdout",
          "text": [
            "       survival  pclass       age     sibsp  parch       fare\n",
            "count  5.000000     5.0   5.00000  5.000000    5.0   5.000000\n",
            "mean   0.600000     2.0  31.20000  0.600000    0.0  29.521660\n",
            "std    0.547723     1.0   6.83374  0.547723    0.0  30.510029\n",
            "min    0.000000     1.0  22.00000  0.000000    0.0   7.250000\n",
            "25%    0.000000     1.0  26.00000  0.000000    0.0   7.925000\n",
            "50%    1.000000     2.0  35.00000  1.000000    0.0   8.050000\n",
            "75%    1.000000     3.0  35.00000  1.000000    0.0  53.100000\n",
            "max    1.000000     3.0  38.00000  1.000000    0.0  71.283300\n"
          ]
        }
      ],
      "source": [
        "import pandas as pd\n",
        "\n",
        "# Load the dataset from a CSV file \n",
        "df = pd.read_csv('/content/test.csv')\n",
        "# Calculate summary statistics\n",
        "summary_stats = data.describe()\n",
        "\n",
        "# Print the summary statistics\n",
        "print(summary_stats)\n"
      ]
    },
    {
      "cell_type": "code",
      "source": [
        "import pandas as pd\n",
        "\n",
        "# Load the dataset from a CSV file \n",
        "df = pd.read_csv('/content/test.csv')\n",
        "\n",
        "# Calculate summary statistics for numeric columns\n",
        "numeric_stats = df.describe()\n",
        "\n",
        "# Calculate mode for categorical columns\n",
        "categorical_mode = df.mode().iloc[0]\n",
        "\n",
        "# Display the results\n",
        "print(\"Summary statistics for numeric columns:\")\n",
        "print(numeric_stats)\n",
        "\n",
        "print(\"\\nMode for categorical columns:\")\n",
        "print(categorical_mode)\n"
      ],
      "metadata": {
        "colab": {
          "base_uri": "https://localhost:8080/"
        },
        "id": "-8U517bZHbS_",
        "outputId": "3922021e-e108-4295-a95e-7bd812f6ea4c"
      },
      "execution_count": 2,
      "outputs": [
        {
          "output_type": "stream",
          "name": "stdout",
          "text": [
            "Summary statistics for numeric columns:\n",
            "       PassengerId      Pclass         Age       SibSp       Parch        Fare\n",
            "count   418.000000  418.000000  332.000000  418.000000  418.000000  417.000000\n",
            "mean   1100.500000    2.265550   30.272590    0.447368    0.392344   35.627188\n",
            "std     120.810458    0.841838   14.181209    0.896760    0.981429   55.907576\n",
            "min     892.000000    1.000000    0.170000    0.000000    0.000000    0.000000\n",
            "25%     996.250000    1.000000   21.000000    0.000000    0.000000    7.895800\n",
            "50%    1100.500000    3.000000   27.000000    0.000000    0.000000   14.454200\n",
            "75%    1204.750000    3.000000   39.000000    1.000000    0.000000   31.500000\n",
            "max    1309.000000    3.000000   76.000000    8.000000    9.000000  512.329200\n",
            "\n",
            "Mode for categorical columns:\n",
            "PassengerId                              892\n",
            "Pclass                                   3.0\n",
            "Name           Abbott, Master. Eugene Joseph\n",
            "Sex                                     male\n",
            "Age                                     21.0\n",
            "SibSp                                    0.0\n",
            "Parch                                    0.0\n",
            "Ticket                              PC 17608\n",
            "Fare                                    7.75\n",
            "Cabin                        B57 B59 B63 B66\n",
            "Embarked                                   S\n",
            "Name: 0, dtype: object\n"
          ]
        }
      ]
    }
  ]
}
