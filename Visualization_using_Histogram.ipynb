{
  "nbformat": 4,
  "nbformat_minor": 0,
  "metadata": {
    "colab": {
      "provenance": []
    },
    "kernelspec": {
      "name": "python3",
      "display_name": "Python 3"
    },
    "language_info": {
      "name": "python"
    }
  },
  "cells": [
    {
      "cell_type": "markdown",
      "source": [
        "# **TECHNOHACKS**\n",
        "\n",
        "**# Task:**\n",
        "\n",
        "Create a histogram or bar chart to visualize\n",
        "the distribution of data in a dataset.\n",
        "\n",
        "Dataset:https://www.kaggle.com/datasets/uciml/iris?resource=download"
      ],
      "metadata": {
        "id": "F-IDy0h631xY"
      }
    },
    {
      "cell_type": "code",
      "source": [
        "import pandas as pd\n",
        "import matplotlib.pyplot as plt\n",
        "\n",
        "# Load the dataset\n",
        "data = pd.read_csv('/content/Iris.csv')"
      ],
      "metadata": {
        "id": "TmFCVQdM4qr6"
      },
      "execution_count": 4,
      "outputs": []
    },
    {
      "cell_type": "code",
      "source": [
        "print(data.to_markdown())"
      ],
      "metadata": {
        "colab": {
          "base_uri": "https://localhost:8080/"
        },
        "id": "rDXivxBV4vpQ",
        "outputId": "d01554af-a09a-426e-adc1-2cd21b4950fe"
      },
      "execution_count": 7,
      "outputs": [
        {
          "output_type": "stream",
          "name": "stdout",
          "text": [
            "|     |   Id |   SepalLengthCm |   SepalWidthCm |   PetalLengthCm |   PetalWidthCm | Species         |\n",
            "|----:|-----:|----------------:|---------------:|----------------:|---------------:|:----------------|\n",
            "|   0 |    1 |             5.1 |            3.5 |             1.4 |            0.2 | Iris-setosa     |\n",
            "|   1 |    2 |             4.9 |            3   |             1.4 |            0.2 | Iris-setosa     |\n",
            "|   2 |    3 |             4.7 |            3.2 |             1.3 |            0.2 | Iris-setosa     |\n",
            "|   3 |    4 |             4.6 |            3.1 |             1.5 |            0.2 | Iris-setosa     |\n",
            "|   4 |    5 |             5   |            3.6 |             1.4 |            0.2 | Iris-setosa     |\n",
            "|   5 |    6 |             5.4 |            3.9 |             1.7 |            0.4 | Iris-setosa     |\n",
            "|   6 |    7 |             4.6 |            3.4 |             1.4 |            0.3 | Iris-setosa     |\n",
            "|   7 |    8 |             5   |            3.4 |             1.5 |            0.2 | Iris-setosa     |\n",
            "|   8 |    9 |             4.4 |            2.9 |             1.4 |            0.2 | Iris-setosa     |\n",
            "|   9 |   10 |             4.9 |            3.1 |             1.5 |            0.1 | Iris-setosa     |\n",
            "|  10 |   11 |             5.4 |            3.7 |             1.5 |            0.2 | Iris-setosa     |\n",
            "|  11 |   12 |             4.8 |            3.4 |             1.6 |            0.2 | Iris-setosa     |\n",
            "|  12 |   13 |             4.8 |            3   |             1.4 |            0.1 | Iris-setosa     |\n",
            "|  13 |   14 |             4.3 |            3   |             1.1 |            0.1 | Iris-setosa     |\n",
            "|  14 |   15 |             5.8 |            4   |             1.2 |            0.2 | Iris-setosa     |\n",
            "|  15 |   16 |             5.7 |            4.4 |             1.5 |            0.4 | Iris-setosa     |\n",
            "|  16 |   17 |             5.4 |            3.9 |             1.3 |            0.4 | Iris-setosa     |\n",
            "|  17 |   18 |             5.1 |            3.5 |             1.4 |            0.3 | Iris-setosa     |\n",
            "|  18 |   19 |             5.7 |            3.8 |             1.7 |            0.3 | Iris-setosa     |\n",
            "|  19 |   20 |             5.1 |            3.8 |             1.5 |            0.3 | Iris-setosa     |\n",
            "|  20 |   21 |             5.4 |            3.4 |             1.7 |            0.2 | Iris-setosa     |\n",
            "|  21 |   22 |             5.1 |            3.7 |             1.5 |            0.4 | Iris-setosa     |\n",
            "|  22 |   23 |             4.6 |            3.6 |             1   |            0.2 | Iris-setosa     |\n",
            "|  23 |   24 |             5.1 |            3.3 |             1.7 |            0.5 | Iris-setosa     |\n",
            "|  24 |   25 |             4.8 |            3.4 |             1.9 |            0.2 | Iris-setosa     |\n",
            "|  25 |   26 |             5   |            3   |             1.6 |            0.2 | Iris-setosa     |\n",
            "|  26 |   27 |             5   |            3.4 |             1.6 |            0.4 | Iris-setosa     |\n",
            "|  27 |   28 |             5.2 |            3.5 |             1.5 |            0.2 | Iris-setosa     |\n",
            "|  28 |   29 |             5.2 |            3.4 |             1.4 |            0.2 | Iris-setosa     |\n",
            "|  29 |   30 |             4.7 |            3.2 |             1.6 |            0.2 | Iris-setosa     |\n",
            "|  30 |   31 |             4.8 |            3.1 |             1.6 |            0.2 | Iris-setosa     |\n",
            "|  31 |   32 |             5.4 |            3.4 |             1.5 |            0.4 | Iris-setosa     |\n",
            "|  32 |   33 |             5.2 |            4.1 |             1.5 |            0.1 | Iris-setosa     |\n",
            "|  33 |   34 |             5.5 |            4.2 |             1.4 |            0.2 | Iris-setosa     |\n",
            "|  34 |   35 |             4.9 |            3.1 |             1.5 |            0.1 | Iris-setosa     |\n",
            "|  35 |   36 |             5   |            3.2 |             1.2 |            0.2 | Iris-setosa     |\n",
            "|  36 |   37 |             5.5 |            3.5 |             1.3 |            0.2 | Iris-setosa     |\n",
            "|  37 |   38 |             4.9 |            3.1 |             1.5 |            0.1 | Iris-setosa     |\n",
            "|  38 |   39 |             4.4 |            3   |             1.3 |            0.2 | Iris-setosa     |\n",
            "|  39 |   40 |             5.1 |            3.4 |             1.5 |            0.2 | Iris-setosa     |\n",
            "|  40 |   41 |             5   |            3.5 |             1.3 |            0.3 | Iris-setosa     |\n",
            "|  41 |   42 |             4.5 |            2.3 |             1.3 |            0.3 | Iris-setosa     |\n",
            "|  42 |   43 |             4.4 |            3.2 |             1.3 |            0.2 | Iris-setosa     |\n",
            "|  43 |   44 |             5   |            3.5 |             1.6 |            0.6 | Iris-setosa     |\n",
            "|  44 |   45 |             5.1 |            3.8 |             1.9 |            0.4 | Iris-setosa     |\n",
            "|  45 |   46 |             4.8 |            3   |             1.4 |            0.3 | Iris-setosa     |\n",
            "|  46 |   47 |             5.1 |            3.8 |             1.6 |            0.2 | Iris-setosa     |\n",
            "|  47 |   48 |             4.6 |            3.2 |             1.4 |            0.2 | Iris-setosa     |\n",
            "|  48 |   49 |             5.3 |            3.7 |             1.5 |            0.2 | Iris-setosa     |\n",
            "|  49 |   50 |             5   |            3.3 |             1.4 |            0.2 | Iris-setosa     |\n",
            "|  50 |   51 |             7   |            3.2 |             4.7 |            1.4 | Iris-versicolor |\n",
            "|  51 |   52 |             6.4 |            3.2 |             4.5 |            1.5 | Iris-versicolor |\n",
            "|  52 |   53 |             6.9 |            3.1 |             4.9 |            1.5 | Iris-versicolor |\n",
            "|  53 |   54 |             5.5 |            2.3 |             4   |            1.3 | Iris-versicolor |\n",
            "|  54 |   55 |             6.5 |            2.8 |             4.6 |            1.5 | Iris-versicolor |\n",
            "|  55 |   56 |             5.7 |            2.8 |             4.5 |            1.3 | Iris-versicolor |\n",
            "|  56 |   57 |             6.3 |            3.3 |             4.7 |            1.6 | Iris-versicolor |\n",
            "|  57 |   58 |             4.9 |            2.4 |             3.3 |            1   | Iris-versicolor |\n",
            "|  58 |   59 |             6.6 |            2.9 |             4.6 |            1.3 | Iris-versicolor |\n",
            "|  59 |   60 |             5.2 |            2.7 |             3.9 |            1.4 | Iris-versicolor |\n",
            "|  60 |   61 |             5   |            2   |             3.5 |            1   | Iris-versicolor |\n",
            "|  61 |   62 |             5.9 |            3   |             4.2 |            1.5 | Iris-versicolor |\n",
            "|  62 |   63 |             6   |            2.2 |             4   |            1   | Iris-versicolor |\n",
            "|  63 |   64 |             6.1 |            2.9 |             4.7 |            1.4 | Iris-versicolor |\n",
            "|  64 |   65 |             5.6 |            2.9 |             3.6 |            1.3 | Iris-versicolor |\n",
            "|  65 |   66 |             6.7 |            3.1 |             4.4 |            1.4 | Iris-versicolor |\n",
            "|  66 |   67 |             5.6 |            3   |             4.5 |            1.5 | Iris-versicolor |\n",
            "|  67 |   68 |             5.8 |            2.7 |             4.1 |            1   | Iris-versicolor |\n",
            "|  68 |   69 |             6.2 |            2.2 |             4.5 |            1.5 | Iris-versicolor |\n",
            "|  69 |   70 |             5.6 |            2.5 |             3.9 |            1.1 | Iris-versicolor |\n",
            "|  70 |   71 |             5.9 |            3.2 |             4.8 |            1.8 | Iris-versicolor |\n",
            "|  71 |   72 |             6.1 |            2.8 |             4   |            1.3 | Iris-versicolor |\n",
            "|  72 |   73 |             6.3 |            2.5 |             4.9 |            1.5 | Iris-versicolor |\n",
            "|  73 |   74 |             6.1 |            2.8 |             4.7 |            1.2 | Iris-versicolor |\n",
            "|  74 |   75 |             6.4 |            2.9 |             4.3 |            1.3 | Iris-versicolor |\n",
            "|  75 |   76 |             6.6 |            3   |             4.4 |            1.4 | Iris-versicolor |\n",
            "|  76 |   77 |             6.8 |            2.8 |             4.8 |            1.4 | Iris-versicolor |\n",
            "|  77 |   78 |             6.7 |            3   |             5   |            1.7 | Iris-versicolor |\n",
            "|  78 |   79 |             6   |            2.9 |             4.5 |            1.5 | Iris-versicolor |\n",
            "|  79 |   80 |             5.7 |            2.6 |             3.5 |            1   | Iris-versicolor |\n",
            "|  80 |   81 |             5.5 |            2.4 |             3.8 |            1.1 | Iris-versicolor |\n",
            "|  81 |   82 |             5.5 |            2.4 |             3.7 |            1   | Iris-versicolor |\n",
            "|  82 |   83 |             5.8 |            2.7 |             3.9 |            1.2 | Iris-versicolor |\n",
            "|  83 |   84 |             6   |            2.7 |             5.1 |            1.6 | Iris-versicolor |\n",
            "|  84 |   85 |             5.4 |            3   |             4.5 |            1.5 | Iris-versicolor |\n",
            "|  85 |   86 |             6   |            3.4 |             4.5 |            1.6 | Iris-versicolor |\n",
            "|  86 |   87 |             6.7 |            3.1 |             4.7 |            1.5 | Iris-versicolor |\n",
            "|  87 |   88 |             6.3 |            2.3 |             4.4 |            1.3 | Iris-versicolor |\n",
            "|  88 |   89 |             5.6 |            3   |             4.1 |            1.3 | Iris-versicolor |\n",
            "|  89 |   90 |             5.5 |            2.5 |             4   |            1.3 | Iris-versicolor |\n",
            "|  90 |   91 |             5.5 |            2.6 |             4.4 |            1.2 | Iris-versicolor |\n",
            "|  91 |   92 |             6.1 |            3   |             4.6 |            1.4 | Iris-versicolor |\n",
            "|  92 |   93 |             5.8 |            2.6 |             4   |            1.2 | Iris-versicolor |\n",
            "|  93 |   94 |             5   |            2.3 |             3.3 |            1   | Iris-versicolor |\n",
            "|  94 |   95 |             5.6 |            2.7 |             4.2 |            1.3 | Iris-versicolor |\n",
            "|  95 |   96 |             5.7 |            3   |             4.2 |            1.2 | Iris-versicolor |\n",
            "|  96 |   97 |             5.7 |            2.9 |             4.2 |            1.3 | Iris-versicolor |\n",
            "|  97 |   98 |             6.2 |            2.9 |             4.3 |            1.3 | Iris-versicolor |\n",
            "|  98 |   99 |             5.1 |            2.5 |             3   |            1.1 | Iris-versicolor |\n",
            "|  99 |  100 |             5.7 |            2.8 |             4.1 |            1.3 | Iris-versicolor |\n",
            "| 100 |  101 |             6.3 |            3.3 |             6   |            2.5 | Iris-virginica  |\n",
            "| 101 |  102 |             5.8 |            2.7 |             5.1 |            1.9 | Iris-virginica  |\n",
            "| 102 |  103 |             7.1 |            3   |             5.9 |            2.1 | Iris-virginica  |\n",
            "| 103 |  104 |             6.3 |            2.9 |             5.6 |            1.8 | Iris-virginica  |\n",
            "| 104 |  105 |             6.5 |            3   |             5.8 |            2.2 | Iris-virginica  |\n",
            "| 105 |  106 |             7.6 |            3   |             6.6 |            2.1 | Iris-virginica  |\n",
            "| 106 |  107 |             4.9 |            2.5 |             4.5 |            1.7 | Iris-virginica  |\n",
            "| 107 |  108 |             7.3 |            2.9 |             6.3 |            1.8 | Iris-virginica  |\n",
            "| 108 |  109 |             6.7 |            2.5 |             5.8 |            1.8 | Iris-virginica  |\n",
            "| 109 |  110 |             7.2 |            3.6 |             6.1 |            2.5 | Iris-virginica  |\n",
            "| 110 |  111 |             6.5 |            3.2 |             5.1 |            2   | Iris-virginica  |\n",
            "| 111 |  112 |             6.4 |            2.7 |             5.3 |            1.9 | Iris-virginica  |\n",
            "| 112 |  113 |             6.8 |            3   |             5.5 |            2.1 | Iris-virginica  |\n",
            "| 113 |  114 |             5.7 |            2.5 |             5   |            2   | Iris-virginica  |\n",
            "| 114 |  115 |             5.8 |            2.8 |             5.1 |            2.4 | Iris-virginica  |\n",
            "| 115 |  116 |             6.4 |            3.2 |             5.3 |            2.3 | Iris-virginica  |\n",
            "| 116 |  117 |             6.5 |            3   |             5.5 |            1.8 | Iris-virginica  |\n",
            "| 117 |  118 |             7.7 |            3.8 |             6.7 |            2.2 | Iris-virginica  |\n",
            "| 118 |  119 |             7.7 |            2.6 |             6.9 |            2.3 | Iris-virginica  |\n",
            "| 119 |  120 |             6   |            2.2 |             5   |            1.5 | Iris-virginica  |\n",
            "| 120 |  121 |             6.9 |            3.2 |             5.7 |            2.3 | Iris-virginica  |\n",
            "| 121 |  122 |             5.6 |            2.8 |             4.9 |            2   | Iris-virginica  |\n",
            "| 122 |  123 |             7.7 |            2.8 |             6.7 |            2   | Iris-virginica  |\n",
            "| 123 |  124 |             6.3 |            2.7 |             4.9 |            1.8 | Iris-virginica  |\n",
            "| 124 |  125 |             6.7 |            3.3 |             5.7 |            2.1 | Iris-virginica  |\n",
            "| 125 |  126 |             7.2 |            3.2 |             6   |            1.8 | Iris-virginica  |\n",
            "| 126 |  127 |             6.2 |            2.8 |             4.8 |            1.8 | Iris-virginica  |\n",
            "| 127 |  128 |             6.1 |            3   |             4.9 |            1.8 | Iris-virginica  |\n",
            "| 128 |  129 |             6.4 |            2.8 |             5.6 |            2.1 | Iris-virginica  |\n",
            "| 129 |  130 |             7.2 |            3   |             5.8 |            1.6 | Iris-virginica  |\n",
            "| 130 |  131 |             7.4 |            2.8 |             6.1 |            1.9 | Iris-virginica  |\n",
            "| 131 |  132 |             7.9 |            3.8 |             6.4 |            2   | Iris-virginica  |\n",
            "| 132 |  133 |             6.4 |            2.8 |             5.6 |            2.2 | Iris-virginica  |\n",
            "| 133 |  134 |             6.3 |            2.8 |             5.1 |            1.5 | Iris-virginica  |\n",
            "| 134 |  135 |             6.1 |            2.6 |             5.6 |            1.4 | Iris-virginica  |\n",
            "| 135 |  136 |             7.7 |            3   |             6.1 |            2.3 | Iris-virginica  |\n",
            "| 136 |  137 |             6.3 |            3.4 |             5.6 |            2.4 | Iris-virginica  |\n",
            "| 137 |  138 |             6.4 |            3.1 |             5.5 |            1.8 | Iris-virginica  |\n",
            "| 138 |  139 |             6   |            3   |             4.8 |            1.8 | Iris-virginica  |\n",
            "| 139 |  140 |             6.9 |            3.1 |             5.4 |            2.1 | Iris-virginica  |\n",
            "| 140 |  141 |             6.7 |            3.1 |             5.6 |            2.4 | Iris-virginica  |\n",
            "| 141 |  142 |             6.9 |            3.1 |             5.1 |            2.3 | Iris-virginica  |\n",
            "| 142 |  143 |             5.8 |            2.7 |             5.1 |            1.9 | Iris-virginica  |\n",
            "| 143 |  144 |             6.8 |            3.2 |             5.9 |            2.3 | Iris-virginica  |\n",
            "| 144 |  145 |             6.7 |            3.3 |             5.7 |            2.5 | Iris-virginica  |\n",
            "| 145 |  146 |             6.7 |            3   |             5.2 |            2.3 | Iris-virginica  |\n",
            "| 146 |  147 |             6.3 |            2.5 |             5   |            1.9 | Iris-virginica  |\n",
            "| 147 |  148 |             6.5 |            3   |             5.2 |            2   | Iris-virginica  |\n",
            "| 148 |  149 |             6.2 |            3.4 |             5.4 |            2.3 | Iris-virginica  |\n",
            "| 149 |  150 |             5.9 |            3   |             5.1 |            1.8 | Iris-virginica  |\n"
          ]
        }
      ]
    },
    {
      "cell_type": "code",
      "source": [
        "import pandas as pd\n",
        "import matplotlib.pyplot as plt\n",
        "\n",
        "# Load the dataset\n",
        "data = pd.read_csv('/content/Iris.csv')\n",
        "\n",
        "# Remove missing values\n",
        "data_cleaned=data.dropna()\n",
        "print(data_cleaned)"
      ],
      "metadata": {
        "colab": {
          "base_uri": "https://localhost:8080/"
        },
        "id": "g6SFC2OI5g1I",
        "outputId": "c7dd6fbb-4ff4-41b6-aa40-92c99b781adb"
      },
      "execution_count": 8,
      "outputs": [
        {
          "output_type": "stream",
          "name": "stdout",
          "text": [
            "      Id  SepalLengthCm  SepalWidthCm  PetalLengthCm  PetalWidthCm  \\\n",
            "0      1            5.1           3.5            1.4           0.2   \n",
            "1      2            4.9           3.0            1.4           0.2   \n",
            "2      3            4.7           3.2            1.3           0.2   \n",
            "3      4            4.6           3.1            1.5           0.2   \n",
            "4      5            5.0           3.6            1.4           0.2   \n",
            "..   ...            ...           ...            ...           ...   \n",
            "145  146            6.7           3.0            5.2           2.3   \n",
            "146  147            6.3           2.5            5.0           1.9   \n",
            "147  148            6.5           3.0            5.2           2.0   \n",
            "148  149            6.2           3.4            5.4           2.3   \n",
            "149  150            5.9           3.0            5.1           1.8   \n",
            "\n",
            "            Species  \n",
            "0       Iris-setosa  \n",
            "1       Iris-setosa  \n",
            "2       Iris-setosa  \n",
            "3       Iris-setosa  \n",
            "4       Iris-setosa  \n",
            "..              ...  \n",
            "145  Iris-virginica  \n",
            "146  Iris-virginica  \n",
            "147  Iris-virginica  \n",
            "148  Iris-virginica  \n",
            "149  Iris-virginica  \n",
            "\n",
            "[150 rows x 6 columns]\n"
          ]
        }
      ]
    },
    {
      "cell_type": "code",
      "source": [
        "# Remove outliers\n",
        "Q1 = data.quantile(0.25)\n",
        "Q3 = data.quantile(0.75)\n",
        "IQR = Q3 - Q1\n",
        "data = data[~((data < (Q1 - 1.5 * IQR)) | (data > (Q3 + 1.5 * IQR))).any(axis=1)]\n"
      ],
      "metadata": {
        "colab": {
          "base_uri": "https://localhost:8080/"
        },
        "id": "8PfABRG46URg",
        "outputId": "265edb03-d502-4151-ca68-f1d1d8cb3e92"
      },
      "execution_count": 10,
      "outputs": [
        {
          "output_type": "stream",
          "name": "stderr",
          "text": [
            "<ipython-input-10-e433321d00d5>:2: FutureWarning: The default value of numeric_only in DataFrame.quantile is deprecated. In a future version, it will default to False. Select only valid columns or specify the value of numeric_only to silence this warning.\n",
            "  Q1 = data.quantile(0.25)\n",
            "<ipython-input-10-e433321d00d5>:3: FutureWarning: The default value of numeric_only in DataFrame.quantile is deprecated. In a future version, it will default to False. Select only valid columns or specify the value of numeric_only to silence this warning.\n",
            "  Q3 = data.quantile(0.75)\n",
            "<ipython-input-10-e433321d00d5>:5: FutureWarning: Automatic reindexing on DataFrame vs Series comparisons is deprecated and will raise ValueError in a future version. Do `left, right = left.align(right, axis=1, copy=False)` before e.g. `left == right`\n",
            "  data = data[~((data < (Q1 - 1.5 * IQR)) | (data > (Q3 + 1.5 * IQR))).any(axis=1)]\n"
          ]
        }
      ]
    },
    {
      "cell_type": "code",
      "source": [
        "# Create a histogram to visualize the distribution of SepalLengthCm\n",
        "plt.hist(data['SepalLengthCm'], bins=10, edgecolor='black')\n",
        "plt.xlabel('Sepal Length (cm)')\n",
        "plt.ylabel('Frequency')\n",
        "plt.title('Distribution of Sepal Length')\n",
        "plt.show()"
      ],
      "metadata": {
        "colab": {
          "base_uri": "https://localhost:8080/",
          "height": 472
        },
        "id": "DoZvWVHn8XH4",
        "outputId": "b0363648-01a0-4e52-9c7a-ed4193a3064f"
      },
      "execution_count": 13,
      "outputs": [
        {
          "output_type": "display_data",
          "data": {
            "text/plain": [
              "<Figure size 640x480 with 1 Axes>"
            ],
            "image/png": "[encoded data removed]"
          },
          "metadata": {}
        }
      ]
    },
    {
      "cell_type": "code",
      "source": [
        "# Create a bar chart\n",
        "species_counts = data['Species'].value_counts()\n",
        "plt.bar(species_counts.index, species_counts.values, color='green', alpha=0.7)\n",
        "plt.xlabel('Species')\n",
        "plt.ylabel('Count')\n",
        "plt.title('Number of Samples per Species')\n",
        "plt.show()"
      ],
      "metadata": {
        "colab": {
          "base_uri": "https://localhost:8080/",
          "height": 472
        },
        "id": "V3oCYZQU0LB_",
        "outputId": "3e5bbdde-3899-4596-a153-39c14f88a5a0"
      },
      "execution_count": 14,
      "outputs": [
        {
          "output_type": "display_data",
          "data": {
            "text/plain": [
              "<Figure size 640x480 with 1 Axes>"
            ],
            "image/png": "[encoded data removed]"
          },
          "metadata": {}
        }
      ]
    }
  ]
}